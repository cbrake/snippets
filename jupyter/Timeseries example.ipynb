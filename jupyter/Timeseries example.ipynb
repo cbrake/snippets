{
 "cells": [
  {
   "cell_type": "markdown",
   "metadata": {},
   "source": [
    "# Simple timeseries example\n",
    "\n",
    "This example shows how to create a timeseries and plot it.\n",
    "\n"
   ]
  },
  {
   "cell_type": "code",
   "execution_count": 38,
   "metadata": {},
   "outputs": [
    {
     "name": "stdout",
     "output_type": "stream",
     "text": [
      "2018-10-01 11:43:38.942724\n"
     ]
    }
   ],
   "source": [
    "# example of using python time\n",
    "\n",
    "from datetime import datetime, timedelta\n",
    "\n",
    "print (datetime.now())"
   ]
  },
  {
   "cell_type": "code",
   "execution_count": 40,
   "metadata": {},
   "outputs": [
    {
     "name": "stdout",
     "output_type": "stream",
     "text": [
      "2018-10-01 11:53:54.040153\n"
     ]
    }
   ],
   "source": [
    "# you can add durations to a timestamp\n",
    "\n",
    "print (datetime.now() + timedelta(minutes=10))"
   ]
  },
  {
   "cell_type": "code",
   "execution_count": 34,
   "metadata": {},
   "outputs": [
    {
     "name": "stdout",
     "output_type": "stream",
     "text": [
      "0.407619760128886\n"
     ]
    }
   ],
   "source": [
    "# example of using pythong to generate random number\n",
    "\n",
    "import random\n",
    "\n",
    "# the below generates a random number between 0 and 1.0\n",
    "print (random.random())"
   ]
  },
  {
   "cell_type": "code",
   "execution_count": 35,
   "metadata": {},
   "outputs": [
    {
     "name": "stdout",
     "output_type": "stream",
     "text": [
      "1.6997960252893407\n"
     ]
    }
   ],
   "source": [
    "# to generate a number between 0 and 10\n",
    "print (random.random() * 10)\n"
   ]
  },
  {
   "cell_type": "code",
   "execution_count": 45,
   "metadata": {},
   "outputs": [
    {
     "name": "stdout",
     "output_type": "stream",
     "text": [
      "[6.670268571073609, 9.645207299909798, 3.074186771145798, 8.942206425994822, 8.276805616357759, 2.4219040804573453, 0.3812350824367938, 0.18338285832870005, 6.296377683204982, 4.626008933167505, 2.9560395642331216, 4.332723268234979, 3.5650809495615485, 8.240140498967627, 3.6997058849396547, 0.7704063582486331, 0.5421793118924112, 4.226579678163887, 3.6429110826123257, 7.470299747432282]\n",
      "[datetime.datetime(2018, 10, 1, 11, 51, 3, 358814), datetime.datetime(2018, 10, 1, 11, 52, 3, 358814), datetime.datetime(2018, 10, 1, 11, 53, 3, 358814), datetime.datetime(2018, 10, 1, 11, 54, 3, 358814), datetime.datetime(2018, 10, 1, 11, 55, 3, 358814), datetime.datetime(2018, 10, 1, 11, 56, 3, 358814), datetime.datetime(2018, 10, 1, 11, 57, 3, 358814), datetime.datetime(2018, 10, 1, 11, 58, 3, 358814), datetime.datetime(2018, 10, 1, 11, 59, 3, 358814), datetime.datetime(2018, 10, 1, 12, 0, 3, 358814), datetime.datetime(2018, 10, 1, 12, 1, 3, 358814), datetime.datetime(2018, 10, 1, 12, 2, 3, 358814), datetime.datetime(2018, 10, 1, 12, 3, 3, 358814), datetime.datetime(2018, 10, 1, 12, 4, 3, 358814), datetime.datetime(2018, 10, 1, 12, 5, 3, 358814), datetime.datetime(2018, 10, 1, 12, 6, 3, 358814), datetime.datetime(2018, 10, 1, 12, 7, 3, 358814), datetime.datetime(2018, 10, 1, 12, 8, 3, 358814), datetime.datetime(2018, 10, 1, 12, 9, 3, 358814), datetime.datetime(2018, 10, 1, 12, 10, 3, 358814)]\n"
     ]
    }
   ],
   "source": [
    "# now lets generate an array of samples spaced 1 minute appart\n",
    "\n",
    "samples = []\n",
    "times = []\n",
    "time = datetime.now()\n",
    "\n",
    "for i in range(20):\n",
    "    value = random.random()*10\n",
    "    time = time + timedelta(minutes=1)\n",
    "    samples.append(value)\n",
    "    times.append(time)\n",
    "    \n",
    "print(samples)\n",
    "print(times)\n",
    "    \n"
   ]
  },
  {
   "cell_type": "code",
   "execution_count": 47,
   "metadata": {},
   "outputs": [
    {
     "data": {
      "text/plain": [
       "[<matplotlib.lines.Line2D at 0x7efdf29179b0>]"
      ]
     },
     "execution_count": 47,
     "metadata": {},
     "output_type": "execute_result"
    },
    {
     "data": {
      "image/png": "[encoded data removed]",
      "text/plain": [
       "<Figure size 432x288 with 1 Axes>"
      ]
     },
     "metadata": {
      "needs_background": "light"
     },
     "output_type": "display_data"
    }
   ],
   "source": [
    "# now, plot the samples using matplotlib\n",
    "\n",
    "import matplotlib.pyplot as plt\n",
    "%matplotlib inline\n",
    "\n",
    "\n",
    "plt.plot_date(x=times, y=samples)\n"
   ]
  },
  {
   "cell_type": "code",
   "execution_count": null,
   "metadata": {},
   "outputs": [],
   "source": []
  }
 ],
 "metadata": {
  "kernelspec": {
   "display_name": "Python 3",
   "language": "python",
   "name": "python3"
  },
  "language_info": {
   "codemirror_mode": {
    "name": "ipython",
    "version": 3
   },
   "file_extension": ".py",
   "mimetype": "text/x-python",
   "name": "python",
   "nbconvert_exporter": "python",
   "pygments_lexer": "ipython3",
   "version": "3.7.0"
  }
 },
 "nbformat": 4,
 "nbformat_minor": 2
}
